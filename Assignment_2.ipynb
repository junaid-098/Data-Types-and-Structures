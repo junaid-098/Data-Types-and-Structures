{
  "nbformat": 4,
  "nbformat_minor": 0,
  "metadata": {
    "colab": {
      "provenance": []
    },
    "kernelspec": {
      "name": "python3",
      "display_name": "Python 3"
    },
    "language_info": {
      "name": "python"
    }
  },
  "cells": [
    {
      "cell_type": "markdown",
      "source": [
        "## **Assignment-2 Data Types and Structures**"
      ],
      "metadata": {
        "id": "A5MvpHac_ErB"
      }
    },
    {
      "cell_type": "markdown",
      "source": [
        "# **Theory Questions**"
      ],
      "metadata": {
        "id": "_AUOSMJ8-lUx"
      }
    },
    {
      "cell_type": "markdown",
      "source": [
        "1. What are data structures, and why are they important?      \n",
        "  -> Data structures are ways to store, organize, and manage data efficiently so that it can be accessed and modified easily. It is important to store big data in an organized way and helps to write clean, maintainable logical problems and to solve real world problems etc.\n",
        "2. Explain the difference between mutable and immutable data types with examples           \n",
        "  -> Mutable data types are those whose data or objects can be changed at any time and immutable data types are those whose data/objects cannot be changed once it's created.     \n",
        "  E.g.\n",
        "  Mutable- list, dict, set   \n",
        "  Immutable- tuple, str\n",
        "3. What are the main differences between lists and tuples in Python?    \n",
        "  -> lists are mutable in nature and can be changed at any time whereas tuples are immutable in nature and cannot be changed once it is created.\n",
        "4. Describe how dictionaries store data  \n",
        "  -> Dictionaries stores data in key-value pairs.\n",
        "  e.g. dict = {\"Name\": \"Junaid\", \"Age\": 26}\n",
        "5. Why might you use a set instead of a list in Python?    \n",
        "  -> Set provides unique values only, removes duplicate and maintained in an unordered sequence whereas list does not provide all the values, will not remove duplicates and maintained in an ordered sequence.\n",
        "6. What is a string in Python, and how is it different from a list?   \n",
        "  -> It is a sequence of unicode characters used to represent text. Strings stores only text as a character and it is immutable in nature whereas, list stores any type and is mutable in nature.\n",
        "7.  How do tuples ensure data integrity in Python?  \n",
        "   -> Tuples help ensure data integrity by being immutable. once created, their contents cannot be changed, added to, or removed. This immutability gives several advantages when our goal is to protect data from accidental modification.\n",
        "8. What is a hash table, and how does it relate to dictionaries in Python?   \n",
        "   ->\n",
        "9. Can lists contain different data types in Python?  \n",
        "   -> Yes, lists are heterogeneous and can hold different data types in python.\n",
        "10. Explain why strings are immutable in Python?  \n",
        "  -> Strings in Python are immutable because of memory efficiency\n",
        "11. What advantages do dictionaries offer over lists for certain tasks?  \n",
        "   -> Key-value pairing, fast lookup or uniiquely identifying data are the advantages dictionaries offer over lists for certain tasks\n",
        "12. Describe a scenario where using a tuple would be preferable over a list?   \n",
        "   -> When we need to store the passwords, Employee id, Member id etc then we are preferring tuple over a list because it is immutable.\n",
        "13. How do sets handle duplicate values in Python?    \n",
        "   -> In Python, sets automatically remove duplicates. They only store unique values, regardless of how many duplicates we try to add.\n",
        "14. How does the “in” keyword work differently for lists and dictionaries?  \n",
        "   -> \"in\" keywords in lists checks whether a value exists as an item in the list whereas \"in\" in a dictionary checks whether key exists not the values.\n",
        "15. Can you modify the elements of a tuple? Explain why or why not?  \n",
        "   -> No, we cannot modify the elements of a tuple because it is immutable in nature.\n",
        "16. What is a nested dictionary, and give an example of its use case?  \n",
        "   -> It is a dictionary inside another dictionary.    \n",
        "   e.g.    \n",
        "   students = {    \n",
        "    \"A001\": {\"name\": \"Junaid\", \"age\": 21, \"course\": \"Python\"},    \n",
        "    \"A002\": {\"name\": \"Sara\", \"age\": 22, \"course\": \"Data Science\"}\n",
        "}\n",
        "17. Describe the time complexity of accessing elements in a dictionary?   \n",
        "   ->\n",
        "18.  In what situations are lists preferred over dictionaries?   \n",
        "  -> lists are preferred for scenarios where order, indexing, or simple collections is required.\n",
        "19. Why are dictionaries considered unordered, and how does that affect data retrieval?   \n",
        "  -> Dictionaries in older versions of Python (before 3.7) were considered unordered because they did not preserve the insertion order of keys.\n",
        "20. Explain the difference between a list and a dictionary in terms of data retrieval.   \n",
        "  -> List is best for ordered data in simple sequences whereas dictionary is best for labeled data, fast key based lookup."
      ],
      "metadata": {
        "id": "Z29Ch0Z1gpqf"
      }
    },
    {
      "cell_type": "markdown",
      "source": [
        "# **Practical Questions**"
      ],
      "metadata": {
        "id": "jZyxN5YY-x5f"
      }
    },
    {
      "cell_type": "code",
      "source": [
        "#1. Write a code to create a string with your name and print it.\n",
        "my_name = \"Junaid\"\n",
        "print(my_name)"
      ],
      "metadata": {
        "colab": {
          "base_uri": "https://localhost:8080/"
        },
        "id": "dIJOgOot_Xzc",
        "outputId": "4c99657f-3fb6-4c30-ae12-631ac50d3e91"
      },
      "execution_count": null,
      "outputs": [
        {
          "output_type": "stream",
          "name": "stdout",
          "text": [
            "Junaid\n"
          ]
        }
      ]
    },
    {
      "cell_type": "code",
      "source": [
        "#2. Write a code to find the length of the string \"Hello World\"\n",
        "text = \"Hello World\"\n",
        "length = len(text)\n",
        "print(\"length of the string:\", length )"
      ],
      "metadata": {
        "colab": {
          "base_uri": "https://localhost:8080/"
        },
        "id": "7m4ecPN-_21-",
        "outputId": "db5bc6c4-09f7-4733-ae92-67ef1a8d43e6"
      },
      "execution_count": null,
      "outputs": [
        {
          "output_type": "stream",
          "name": "stdout",
          "text": [
            "length of the string: 11\n"
          ]
        }
      ]
    },
    {
      "cell_type": "code",
      "source": [
        "#3. Write a code to slice the first 3 characters from the string \"Python Programming\"\n",
        "text = \"Python Programming\"\n",
        "sliced_text = text[:3]\n",
        "print(\"The first 3 characters:\", sliced_text)"
      ],
      "metadata": {
        "colab": {
          "base_uri": "https://localhost:8080/"
        },
        "id": "iZwwBUc0Amqx",
        "outputId": "dd2f3e4b-591f-4d47-c48b-db0f4ddd2a6a"
      },
      "execution_count": null,
      "outputs": [
        {
          "output_type": "stream",
          "name": "stdout",
          "text": [
            "The first 3 characters: Pyt\n"
          ]
        }
      ]
    },
    {
      "cell_type": "code",
      "source": [
        "#4. Write a code to convert the string \"hello\" to uppercase\n",
        "text = \"hello\"\n",
        "uppercase_text = text.upper()\n",
        "print(\"uppercase:\",uppercase_text)"
      ],
      "metadata": {
        "colab": {
          "base_uri": "https://localhost:8080/"
        },
        "id": "L_MrXZhQBWKu",
        "outputId": "367135d0-021d-40f9-bbf7-7b8144bc4cee"
      },
      "execution_count": null,
      "outputs": [
        {
          "output_type": "stream",
          "name": "stdout",
          "text": [
            "uppercase: HELLO\n"
          ]
        }
      ]
    },
    {
      "cell_type": "code",
      "source": [
        "#5. Write a code to replace the word \"apple\" with \"orange\" in the string \"I like apple\n",
        "text = \"I like apple\"\n",
        "new_text = text.replace(\"apple\", \"orange\")\n",
        "print(\"updated_text:\", new_text)"
      ],
      "metadata": {
        "colab": {
          "base_uri": "https://localhost:8080/"
        },
        "id": "5PDEgWXECAdm",
        "outputId": "5771ce39-e617-4e4b-d928-0903c2290b64"
      },
      "execution_count": null,
      "outputs": [
        {
          "output_type": "stream",
          "name": "stdout",
          "text": [
            "updated_text: I like orange\n"
          ]
        }
      ]
    },
    {
      "cell_type": "code",
      "source": [
        "#6. Write a code to create a list with numbers 1 to 5 and print it\n",
        "list = [1,2,3,4,5]\n",
        "print(\"list of numbers:\",list)"
      ],
      "metadata": {
        "colab": {
          "base_uri": "https://localhost:8080/"
        },
        "id": "juQoOm1FCyn-",
        "outputId": "409999b3-0825-4440-b48d-386a600ff8fe"
      },
      "execution_count": null,
      "outputs": [
        {
          "output_type": "stream",
          "name": "stdout",
          "text": [
            "list of numbers: [1, 2, 3, 4, 5]\n"
          ]
        }
      ]
    },
    {
      "cell_type": "code",
      "source": [
        "#7. Write a code to append the number 10 to the list [1, 2, 3, 4]\n",
        "numbers = [1, 2, 3, 4]\n",
        "numbers.append(10)\n",
        "print(\"updated_list:\", numbers)"
      ],
      "metadata": {
        "colab": {
          "base_uri": "https://localhost:8080/"
        },
        "id": "opBISn3aDGEw",
        "outputId": "68d01d0d-8108-4d6c-e30c-951b25555082"
      },
      "execution_count": null,
      "outputs": [
        {
          "output_type": "stream",
          "name": "stdout",
          "text": [
            "updated_list: [1, 2, 3, 4, 10]\n"
          ]
        }
      ]
    },
    {
      "cell_type": "code",
      "source": [
        "#8. Write a code to remove the number 3 from the list [1, 2, 3, 4, 5]\n",
        "numbers = [1, 2, 3, 4, 5]\n",
        "numbers.remove(3)\n",
        "print(\"updated_list:\", numbers)"
      ],
      "metadata": {
        "colab": {
          "base_uri": "https://localhost:8080/"
        },
        "id": "m1EkVot7D1Vv",
        "outputId": "0a252a83-db3f-41ad-df94-23451e6ffa12"
      },
      "execution_count": null,
      "outputs": [
        {
          "output_type": "stream",
          "name": "stdout",
          "text": [
            "updated_list: [1, 2, 4, 5]\n"
          ]
        }
      ]
    },
    {
      "cell_type": "code",
      "source": [
        "#9. Write a code to access the second element in the list ['a', 'b', 'c', 'd']\n",
        "letters = ['a', 'b', 'c', 'd']\n",
        "second_element = letters[1]\n",
        "print(\"second_element:\", second_element)"
      ],
      "metadata": {
        "colab": {
          "base_uri": "https://localhost:8080/"
        },
        "id": "3ZameHM1Erhm",
        "outputId": "1e1f0c2b-4f34-4c75-96b0-2a633439a885"
      },
      "execution_count": null,
      "outputs": [
        {
          "output_type": "stream",
          "name": "stdout",
          "text": [
            "second_element: b\n"
          ]
        }
      ]
    },
    {
      "cell_type": "code",
      "source": [
        "#10. Write a code to reverse the list [10, 20, 30, 40, 50].\n",
        "numbers = [10, 20, 30, 40, 50]\n",
        "numbers.reverse()\n",
        "print(\"reversed_list:\", numbers)"
      ],
      "metadata": {
        "colab": {
          "base_uri": "https://localhost:8080/"
        },
        "id": "5Y_JpchOFK4G",
        "outputId": "b92fcbc2-5e9e-432a-9076-3a0134383ba6"
      },
      "execution_count": null,
      "outputs": [
        {
          "output_type": "stream",
          "name": "stdout",
          "text": [
            "reversed_list: [50, 40, 30, 20, 10]\n"
          ]
        }
      ]
    },
    {
      "cell_type": "code",
      "source": [
        "#11. Write a code to create a tuple with the elements 100, 200, 300 and print it\n",
        "numbers = (100, 200, 300)\n",
        "print(\"Tuples:\", numbers)"
      ],
      "metadata": {
        "colab": {
          "base_uri": "https://localhost:8080/"
        },
        "id": "GDkFf1_WFvYl",
        "outputId": "dd04ef37-f1dd-48f6-fdd7-300dd9ad4c75"
      },
      "execution_count": null,
      "outputs": [
        {
          "output_type": "stream",
          "name": "stdout",
          "text": [
            "Tuples: (100, 200, 300)\n"
          ]
        }
      ]
    },
    {
      "cell_type": "code",
      "source": [
        "#12. Write a code to access the second-to-last element of the tuple ('red', 'green', 'blue', 'yellow').\n",
        "colors = ('red', 'green', 'blue', 'yellow')\n",
        "second_to_last = colors[-2]\n",
        "print(\"Second-to-last-element:\", second_to_last)"
      ],
      "metadata": {
        "colab": {
          "base_uri": "https://localhost:8080/"
        },
        "id": "xuanUuo6GOEd",
        "outputId": "9dc1e34b-96d2-4d65-fe13-5c8cd34561e0"
      },
      "execution_count": null,
      "outputs": [
        {
          "output_type": "stream",
          "name": "stdout",
          "text": [
            "Second-to-last-element: blue\n"
          ]
        }
      ]
    },
    {
      "cell_type": "code",
      "source": [
        "#13. Write a code to find the minimum number in the tuple (10, 20, 5, 15).\n",
        "number = (10, 20, 5, 15)\n",
        "minimum_value = min(numbers)\n",
        "print(\"Minimum number in the tuple:\",minimum_value)"
      ],
      "metadata": {
        "colab": {
          "base_uri": "https://localhost:8080/"
        },
        "id": "77bIAps-LO-g",
        "outputId": "23f7dfcc-aea8-47e2-e8ff-e14e9f07481f"
      },
      "execution_count": null,
      "outputs": [
        {
          "output_type": "stream",
          "name": "stdout",
          "text": [
            "Minimum number in the tuple: 100\n"
          ]
        }
      ]
    },
    {
      "cell_type": "code",
      "source": [
        "#14.  Write a code to find the index of the element \"cat\" in the tuple ('dog', 'cat', 'rabbit')\n",
        "animals = ('dog', 'cat', 'rabbit')\n",
        "cat_index = animals.index('cat')\n",
        "print(\"Index of 'cat':\", cat_index)"
      ],
      "metadata": {
        "colab": {
          "base_uri": "https://localhost:8080/"
        },
        "id": "560Mf9PzL1bc",
        "outputId": "29661443-e270-46c5-da6f-b4b03469c1ad"
      },
      "execution_count": null,
      "outputs": [
        {
          "output_type": "stream",
          "name": "stdout",
          "text": [
            "Index of 'cat': 1\n"
          ]
        }
      ]
    },
    {
      "cell_type": "code",
      "source": [
        "#15.  Write a code to create a tuple containing three different fruits and check if \"kiwi\" is in it.\n",
        "fruits = (\"Banana\", \"Apple\", \"Orange\")\n",
        "is_kiwi_present = \"kiwi\" in fruits\n",
        "print(\"Is 'Kiwi' in the tuple?\", is_kiwi_present)\n"
      ],
      "metadata": {
        "colab": {
          "base_uri": "https://localhost:8080/"
        },
        "id": "ywUo0Mu1M2AC",
        "outputId": "9c65341e-684c-402e-e0fd-f15d7265db74"
      },
      "execution_count": null,
      "outputs": [
        {
          "output_type": "stream",
          "name": "stdout",
          "text": [
            "Is 'Kiwi' in the tuple? False\n"
          ]
        }
      ]
    },
    {
      "cell_type": "code",
      "source": [
        "#16. Write a code to create a set with the elements 'a', 'b', 'c' and print it.\n",
        "Set = {'a','b','c'}\n",
        "print(\"Set:\", Set)"
      ],
      "metadata": {
        "colab": {
          "base_uri": "https://localhost:8080/"
        },
        "id": "K85cdX_uN4jM",
        "outputId": "e2a7c3ad-90d0-4a47-92a5-6a6d6807611f"
      },
      "execution_count": null,
      "outputs": [
        {
          "output_type": "stream",
          "name": "stdout",
          "text": [
            "Set: {'a', 'b', 'c'}\n"
          ]
        }
      ]
    },
    {
      "cell_type": "code",
      "source": [
        "#17. Write a code to clear all elements from the set {1, 2, 3, 4, 5}.\n",
        "numbers = {1, 2, 3, 4, 5}\n",
        "numbers.clear()\n",
        "print(\"sets after clearing:\", numbers)"
      ],
      "metadata": {
        "colab": {
          "base_uri": "https://localhost:8080/"
        },
        "id": "jtnzZT3jPBiN",
        "outputId": "9a83e141-7ebf-428e-e957-4dc3527b33d1"
      },
      "execution_count": null,
      "outputs": [
        {
          "output_type": "stream",
          "name": "stdout",
          "text": [
            "sets after clearing: set()\n"
          ]
        }
      ]
    },
    {
      "cell_type": "code",
      "source": [
        "#18. Write a code to remove the element 4 from the set {1, 2, 3, 4}.\n",
        "numbers = {1,2,3,4}\n",
        "numbers.remove(4)\n",
        "print(\"set after removing 4:\", numbers)"
      ],
      "metadata": {
        "colab": {
          "base_uri": "https://localhost:8080/"
        },
        "id": "6A6X8aUePjkJ",
        "outputId": "2e7f6713-d85c-4486-8577-61093072148c"
      },
      "execution_count": null,
      "outputs": [
        {
          "output_type": "stream",
          "name": "stdout",
          "text": [
            "set after removing 4: {1, 2, 3}\n"
          ]
        }
      ]
    },
    {
      "cell_type": "code",
      "source": [
        "#19. Write a code to find the union of two sets {1, 2, 3} and {3, 4, 5}.\n",
        "set1 = {1, 2, 3}\n",
        "set2 = {3, 4, 5}\n",
        "union_set = set1.union(set2)\n",
        "print(\"Union of the set:\", union_set)"
      ],
      "metadata": {
        "colab": {
          "base_uri": "https://localhost:8080/"
        },
        "id": "6yfKfdvpQATf",
        "outputId": "3c9bc02a-f57d-45c2-aa27-9f562f82c97c"
      },
      "execution_count": null,
      "outputs": [
        {
          "output_type": "stream",
          "name": "stdout",
          "text": [
            "Union of the set: {1, 2, 3, 4, 5}\n"
          ]
        }
      ]
    },
    {
      "cell_type": "code",
      "source": [
        "#20. Write a code to find the intersection of two sets {1, 2, 3} and {2, 3, 4}\n",
        "set1 = {1, 2, 3}\n",
        "set2 = {2, 3, 4}\n",
        "intersection_set = set1.intersection(set2)\n",
        "print(\"Intersection of set:\", intersection_set)"
      ],
      "metadata": {
        "colab": {
          "base_uri": "https://localhost:8080/"
        },
        "id": "x8jpFPOfQiD2",
        "outputId": "a9c133df-e066-47fb-bdaa-4dec38e8b6ea"
      },
      "execution_count": null,
      "outputs": [
        {
          "output_type": "stream",
          "name": "stdout",
          "text": [
            "Intersection of set: {2, 3}\n"
          ]
        }
      ]
    },
    {
      "cell_type": "code",
      "source": [
        "#21. Write a code to create a dictionary with the keys \"name\", \"age\", and \"city\", and print it.\n",
        "Personal_info = {\"Name\": \"Junaid\", \"Age\": 25, \"city\": \"Mumbai\"}\n",
        "print(\"Personal details:\", Personal_info)"
      ],
      "metadata": {
        "colab": {
          "base_uri": "https://localhost:8080/"
        },
        "id": "5l2M9a8FRDra",
        "outputId": "859629c2-d9fa-4f67-b633-47ef3a6cb790"
      },
      "execution_count": null,
      "outputs": [
        {
          "output_type": "stream",
          "name": "stdout",
          "text": [
            "Personal details: {'Name': 'Junaid', 'Age': 25, 'city': 'Mumbai'}\n"
          ]
        }
      ]
    },
    {
      "cell_type": "code",
      "source": [
        "#22. Write a code to add a new key-value pair \"country\": \"USA\" to the dictionary {'name': 'John', 'age': 25}.\n",
        "person = {'name': 'John', 'age': 25}\n",
        "person['country'] = \"USA\"\n",
        "print(\"Updated dictionary:\", person)"
      ],
      "metadata": {
        "colab": {
          "base_uri": "https://localhost:8080/"
        },
        "id": "rGBc1eFIRli1",
        "outputId": "4bf6f60d-b961-4ba3-a77b-6419a7d8dcb0"
      },
      "execution_count": null,
      "outputs": [
        {
          "output_type": "stream",
          "name": "stdout",
          "text": [
            "Updated dictionary: {'name': 'John', 'age': 25, 'country': 'USA'}\n"
          ]
        }
      ]
    },
    {
      "cell_type": "code",
      "source": [
        "#23. Write a code to access the value associated with the key \"name\" in the dictionary {'name': 'Alice', 'age': 30}.\n",
        "person = {'name': 'Alice', 'age': 30}\n",
        "person[\"name\"]"
      ],
      "metadata": {
        "colab": {
          "base_uri": "https://localhost:8080/",
          "height": 36
        },
        "id": "6jCCQq-tS8Xm",
        "outputId": "4b08fd49-4e7a-4aae-a66d-64288259ac3f"
      },
      "execution_count": null,
      "outputs": [
        {
          "output_type": "execute_result",
          "data": {
            "text/plain": [
              "'Alice'"
            ],
            "application/vnd.google.colaboratory.intrinsic+json": {
              "type": "string"
            }
          },
          "metadata": {},
          "execution_count": 44
        }
      ]
    },
    {
      "cell_type": "code",
      "source": [
        "#24. Write a code to remove the key \"age\" from the dictionary {'name': 'Bob', 'age': 22, 'city': 'New York'}.\n",
        "person = {'name': 'Bob', 'age': 22, 'city': 'New York'}\n",
        "del person[\"age\"]\n",
        "print(\"Updated dictionary:\", person)"
      ],
      "metadata": {
        "colab": {
          "base_uri": "https://localhost:8080/"
        },
        "id": "_KFruT9FTlYw",
        "outputId": "888bd96c-556d-4e77-d46b-0518da43c9b3"
      },
      "execution_count": null,
      "outputs": [
        {
          "output_type": "stream",
          "name": "stdout",
          "text": [
            "Updated dictionary: {'name': 'Bob', 'city': 'New York'}\n"
          ]
        }
      ]
    },
    {
      "cell_type": "code",
      "source": [
        "#25. Write a code to check if the key \"city\" exists in the dictionary {'name': 'Alice', 'city': 'Paris'}.\n",
        "data = {'name': 'Alice', 'city': 'Paris'}\n",
        "if \"city\" in data:\n",
        "  print(\"key 'city' exists in dictionary\")\n",
        "else:\n",
        "  print(\"key 'city' does not exists in dictionary\")"
      ],
      "metadata": {
        "id": "aschsVCBUCQe",
        "colab": {
          "base_uri": "https://localhost:8080/"
        },
        "outputId": "7125e06f-a28d-4f07-adba-7b7cc8aff4d2"
      },
      "execution_count": null,
      "outputs": [
        {
          "output_type": "stream",
          "name": "stdout",
          "text": [
            "key 'city' exists in dictionary\n"
          ]
        }
      ]
    },
    {
      "cell_type": "code",
      "source": [
        "#26. Write a code to create a list, a tuple, and a dictionary, and print them all.\n",
        "list = [1,2,3,4,5]\n",
        "tuple = (\"apple\",\"Banana\",\"orange\")\n",
        "dictionary = {\"Name\": \"Junaid\", \"Age\": 25, \"City\": \"Mumbai\"}\n",
        "\n",
        "print(\"list:\", list)\n",
        "print(\"tuple:\", tuple)\n",
        "print(\"dictionary:\", dictionary)"
      ],
      "metadata": {
        "colab": {
          "base_uri": "https://localhost:8080/"
        },
        "id": "8P_8kHV-1KzH",
        "outputId": "3e1c0e84-b24c-40dd-a7fc-419240feceef"
      },
      "execution_count": null,
      "outputs": [
        {
          "output_type": "stream",
          "name": "stdout",
          "text": [
            "list: [1, 2, 3, 4, 5]\n",
            "tuple: ('apple', 'Banana', 'orange')\n",
            "dictionary: {'Name': 'Junaid', 'Age': 25, 'City': 'Mumbai'}\n"
          ]
        }
      ]
    },
    {
      "cell_type": "code",
      "source": [
        "#27. Write a code to create a list of 5 random numbers between 1 and 100, sort it in ascending order, and print the result.(replaced)\n"
      ],
      "metadata": {
        "id": "zjldfT8t2Ibb"
      },
      "execution_count": null,
      "outputs": []
    },
    {
      "cell_type": "code",
      "source": [
        "#28. Write a code to create a list with strings and print the element at the third index\n",
        "string_list = [\"apple\", \"banana\", \"orange\", \"cherry\"]\n",
        "print(\"Element at index 3:\", string_list[3])"
      ],
      "metadata": {
        "colab": {
          "base_uri": "https://localhost:8080/"
        },
        "id": "DCo-pmO3231L",
        "outputId": "caf89e75-5d20-49f3-b950-2dc9bc8cb855"
      },
      "execution_count": null,
      "outputs": [
        {
          "output_type": "stream",
          "name": "stdout",
          "text": [
            "Element at index 3: cherry\n"
          ]
        }
      ]
    },
    {
      "cell_type": "code",
      "source": [
        "#29. Write a code to combine two dictionaries into one and print the result.\n",
        "dict1 = {'name': 'Alice', 'age': 30}\n",
        "dict2 = {'city': 'Paris', 'country': 'France'}\n",
        "\n",
        "combined_dict = {**dict1, **dict2}\n",
        "print(\"combined dictionary:\", combined_dict)"
      ],
      "metadata": {
        "colab": {
          "base_uri": "https://localhost:8080/"
        },
        "id": "0AKWmp-J3Y_X",
        "outputId": "517f49b4-8d5a-4344-8388-5f7d94a1c9bc"
      },
      "execution_count": null,
      "outputs": [
        {
          "output_type": "stream",
          "name": "stdout",
          "text": [
            "combined dictionary: {'name': 'Alice', 'age': 30, 'city': 'Paris', 'country': 'France'}\n"
          ]
        }
      ]
    },
    {
      "cell_type": "code",
      "source": [
        "#30. Write a code to convert a list of strings into a set.\n",
        "string_list = [\"apple\", \"banana\", \"apple\", \"cherry\", \"banana\"]\n",
        "string_set = set(string_list)\n",
        "print(\"Set from list:\", string_set)"
      ],
      "metadata": {
        "colab": {
          "base_uri": "https://localhost:8080/"
        },
        "id": "Ndp-ZhJa38zk",
        "outputId": "3f34750e-90d3-4ceb-c57a-2b1089c480a2"
      },
      "execution_count": null,
      "outputs": [
        {
          "output_type": "stream",
          "name": "stdout",
          "text": [
            "Set from list: {'apple', 'banana', 'cherry'}\n"
          ]
        }
      ]
    }
  ]
}